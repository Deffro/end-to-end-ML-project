{
 "cells": [
  {
   "cell_type": "code",
   "execution_count": 24,
   "id": "274ae22d-f83d-489f-b770-1891f9df8fae",
   "metadata": {},
   "outputs": [],
   "source": [
    "import pandas as pd\n",
    "import numpy as np\n",
    "import scipy.stats as stats\n",
    "\n",
    "from sklearn.model_selection import train_test_split\n",
    "from sklearn.preprocessing import MinMaxScaler\n",
    "\n",
    "from feature_engine.imputation import (\n",
    "    CategoricalImputer,\n",
    ")\n",
    "\n",
    "from feature_engine.transformation import (\n",
    "    YeoJohnsonTransformer,\n",
    ")\n",
    "\n",
    "from feature_engine.encoding import (\n",
    "    RareLabelEncoder,\n",
    "    OrdinalEncoder,\n",
    "    OneHotEncoder,\n",
    "    CountFrequencyEncoder\n",
    ")\n",
    "\n",
    "import joblib\n",
    "\n",
    "import matplotlib.pyplot as plt\n",
    "import seaborn as sns"
   ]
  },
  {
   "cell_type": "markdown",
   "id": "8ba7ce4e-4cbf-4443-ab53-4d9380fd3936",
   "metadata": {},
   "source": [
    "## Read Data"
   ]
  },
  {
   "cell_type": "code",
   "execution_count": 2,
   "id": "95ddea4e-874a-4324-9667-3e1af48aeafc",
   "metadata": {},
   "outputs": [
    {
     "name": "stdout",
     "output_type": "stream",
     "text": [
      "(19158, 14)\n"
     ]
    },
    {
     "data": {
      "text/html": [
       "<div>\n",
       "<style scoped>\n",
       "    .dataframe tbody tr th:only-of-type {\n",
       "        vertical-align: middle;\n",
       "    }\n",
       "\n",
       "    .dataframe tbody tr th {\n",
       "        vertical-align: top;\n",
       "    }\n",
       "\n",
       "    .dataframe thead th {\n",
       "        text-align: right;\n",
       "    }\n",
       "</style>\n",
       "<table border=\"1\" class=\"dataframe\">\n",
       "  <thead>\n",
       "    <tr style=\"text-align: right;\">\n",
       "      <th></th>\n",
       "      <th>enrollee_id</th>\n",
       "      <th>city</th>\n",
       "      <th>city_development_index</th>\n",
       "      <th>gender</th>\n",
       "      <th>relevent_experience</th>\n",
       "      <th>enrolled_university</th>\n",
       "      <th>education_level</th>\n",
       "      <th>major_discipline</th>\n",
       "      <th>experience</th>\n",
       "      <th>company_size</th>\n",
       "      <th>company_type</th>\n",
       "      <th>last_new_job</th>\n",
       "      <th>training_hours</th>\n",
       "      <th>target</th>\n",
       "    </tr>\n",
       "  </thead>\n",
       "  <tbody>\n",
       "    <tr>\n",
       "      <th>0</th>\n",
       "      <td>8949</td>\n",
       "      <td>city_103</td>\n",
       "      <td>0.920</td>\n",
       "      <td>Male</td>\n",
       "      <td>Has relevent experience</td>\n",
       "      <td>no_enrollment</td>\n",
       "      <td>Graduate</td>\n",
       "      <td>STEM</td>\n",
       "      <td>&gt;20</td>\n",
       "      <td>NaN</td>\n",
       "      <td>NaN</td>\n",
       "      <td>1</td>\n",
       "      <td>36</td>\n",
       "      <td>1.0</td>\n",
       "    </tr>\n",
       "    <tr>\n",
       "      <th>1</th>\n",
       "      <td>29725</td>\n",
       "      <td>city_40</td>\n",
       "      <td>0.776</td>\n",
       "      <td>Male</td>\n",
       "      <td>No relevent experience</td>\n",
       "      <td>no_enrollment</td>\n",
       "      <td>Graduate</td>\n",
       "      <td>STEM</td>\n",
       "      <td>15</td>\n",
       "      <td>50-99</td>\n",
       "      <td>Pvt Ltd</td>\n",
       "      <td>&gt;4</td>\n",
       "      <td>47</td>\n",
       "      <td>0.0</td>\n",
       "    </tr>\n",
       "    <tr>\n",
       "      <th>2</th>\n",
       "      <td>11561</td>\n",
       "      <td>city_21</td>\n",
       "      <td>0.624</td>\n",
       "      <td>NaN</td>\n",
       "      <td>No relevent experience</td>\n",
       "      <td>Full time course</td>\n",
       "      <td>Graduate</td>\n",
       "      <td>STEM</td>\n",
       "      <td>5</td>\n",
       "      <td>NaN</td>\n",
       "      <td>NaN</td>\n",
       "      <td>never</td>\n",
       "      <td>83</td>\n",
       "      <td>0.0</td>\n",
       "    </tr>\n",
       "    <tr>\n",
       "      <th>3</th>\n",
       "      <td>33241</td>\n",
       "      <td>city_115</td>\n",
       "      <td>0.789</td>\n",
       "      <td>NaN</td>\n",
       "      <td>No relevent experience</td>\n",
       "      <td>NaN</td>\n",
       "      <td>Graduate</td>\n",
       "      <td>Business Degree</td>\n",
       "      <td>&lt;1</td>\n",
       "      <td>NaN</td>\n",
       "      <td>Pvt Ltd</td>\n",
       "      <td>never</td>\n",
       "      <td>52</td>\n",
       "      <td>1.0</td>\n",
       "    </tr>\n",
       "    <tr>\n",
       "      <th>4</th>\n",
       "      <td>666</td>\n",
       "      <td>city_162</td>\n",
       "      <td>0.767</td>\n",
       "      <td>Male</td>\n",
       "      <td>Has relevent experience</td>\n",
       "      <td>no_enrollment</td>\n",
       "      <td>Masters</td>\n",
       "      <td>STEM</td>\n",
       "      <td>&gt;20</td>\n",
       "      <td>50-99</td>\n",
       "      <td>Funded Startup</td>\n",
       "      <td>4</td>\n",
       "      <td>8</td>\n",
       "      <td>0.0</td>\n",
       "    </tr>\n",
       "  </tbody>\n",
       "</table>\n",
       "</div>"
      ],
      "text/plain": [
       "   enrollee_id      city  city_development_index gender  \\\n",
       "0         8949  city_103                   0.920   Male   \n",
       "1        29725   city_40                   0.776   Male   \n",
       "2        11561   city_21                   0.624    NaN   \n",
       "3        33241  city_115                   0.789    NaN   \n",
       "4          666  city_162                   0.767   Male   \n",
       "\n",
       "       relevent_experience enrolled_university education_level  \\\n",
       "0  Has relevent experience       no_enrollment        Graduate   \n",
       "1   No relevent experience       no_enrollment        Graduate   \n",
       "2   No relevent experience    Full time course        Graduate   \n",
       "3   No relevent experience                 NaN        Graduate   \n",
       "4  Has relevent experience       no_enrollment         Masters   \n",
       "\n",
       "  major_discipline experience company_size    company_type last_new_job  \\\n",
       "0             STEM        >20          NaN             NaN            1   \n",
       "1             STEM         15        50-99         Pvt Ltd           >4   \n",
       "2             STEM          5          NaN             NaN        never   \n",
       "3  Business Degree         <1          NaN         Pvt Ltd        never   \n",
       "4             STEM        >20        50-99  Funded Startup            4   \n",
       "\n",
       "   training_hours  target  \n",
       "0              36     1.0  \n",
       "1              47     0.0  \n",
       "2              83     0.0  \n",
       "3              52     1.0  \n",
       "4               8     0.0  "
      ]
     },
     "execution_count": 2,
     "metadata": {},
     "output_type": "execute_result"
    }
   ],
   "source": [
    "data = pd.read_csv('../src/data/train.csv')\n",
    "print(data.shape)\n",
    "data.head()"
   ]
  },
  {
   "cell_type": "markdown",
   "id": "47cc0f75-27f9-4e26-b5e7-b97db3931d2e",
   "metadata": {},
   "source": [
    "## Train-Test Split"
   ]
  },
  {
   "cell_type": "code",
   "execution_count": 3,
   "id": "d50a715c-cbca-4aee-a477-03d64ddd3b67",
   "metadata": {},
   "outputs": [],
   "source": [
    "X_train, X_test, y_train, y_test = train_test_split(\n",
    "    data.drop(['enrollee_id', 'target'], axis=1),\n",
    "    data['target'],\n",
    "    test_size=0.2,\n",
    "    random_state=0,\n",
    ")"
   ]
  },
  {
   "cell_type": "markdown",
   "id": "d7313eb1-3dcc-485d-b66a-3ebff18a5777",
   "metadata": {},
   "source": [
    "## Missing Values"
   ]
  },
  {
   "cell_type": "markdown",
   "id": "1c6986b3-6887-41ab-bc77-f4b060718190",
   "metadata": {},
   "source": [
    "### Categorical Varibles"
   ]
  },
  {
   "cell_type": "code",
   "execution_count": 4,
   "id": "7bda8d2f-1326-4169-acc9-2219c32dfec2",
   "metadata": {},
   "outputs": [],
   "source": [
    "cat_vars = [var for var in data.columns if data[var].dtype == 'O']\n",
    "cat_vars_with_na = [var for var in cat_vars if X_train[var].isnull().sum() > 0]"
   ]
  },
  {
   "cell_type": "code",
   "execution_count": 5,
   "id": "6d605201-c48b-4c7b-a807-797e9192405e",
   "metadata": {},
   "outputs": [
    {
     "data": {
      "text/plain": [
       "['city',\n",
       " 'gender',\n",
       " 'relevent_experience',\n",
       " 'enrolled_university',\n",
       " 'education_level',\n",
       " 'major_discipline',\n",
       " 'experience',\n",
       " 'company_size',\n",
       " 'company_type',\n",
       " 'last_new_job']"
      ]
     },
     "execution_count": 5,
     "metadata": {},
     "output_type": "execute_result"
    }
   ],
   "source": [
    "cat_vars"
   ]
  },
  {
   "cell_type": "code",
   "execution_count": 6,
   "id": "001e7e50-dcd0-4f31-83d0-d0e2369d452d",
   "metadata": {},
   "outputs": [
    {
     "data": {
      "text/plain": [
       "company_type           0.320493\n",
       "company_size           0.309949\n",
       "gender                 0.235306\n",
       "major_discipline       0.146832\n",
       "education_level        0.024011\n",
       "last_new_job           0.022080\n",
       "enrolled_university    0.020148\n",
       "experience             0.003393\n",
       "dtype: float64"
      ]
     },
     "execution_count": 6,
     "metadata": {},
     "output_type": "execute_result"
    }
   ],
   "source": [
    "data[cat_vars_with_na].isnull().mean().sort_values(ascending=False)"
   ]
  },
  {
   "cell_type": "code",
   "execution_count": 7,
   "id": "cd8828af-51c5-4542-9a4d-efa36455ccfc",
   "metadata": {},
   "outputs": [],
   "source": [
    "cat_vars_replace_na_with_string_missing = [var for var in cat_vars_with_na if X_train[var].isnull().mean() > 0.1]\n",
    "cat_vars_replace_na_with_frequent = [var for var in cat_vars_with_na if X_train[var].isnull().mean() <= 0.1]"
   ]
  },
  {
   "cell_type": "code",
   "execution_count": 8,
   "id": "cd362740-cdcd-428d-bbb2-00c5f42fb243",
   "metadata": {},
   "outputs": [
    {
     "data": {
      "text/plain": [
       "['gender', 'major_discipline', 'company_size', 'company_type']"
      ]
     },
     "execution_count": 8,
     "metadata": {},
     "output_type": "execute_result"
    }
   ],
   "source": [
    "cat_vars_replace_na_with_string_missing"
   ]
  },
  {
   "cell_type": "code",
   "execution_count": 9,
   "id": "15cfb8ac-5a54-499e-bcc0-ecbcc7ae6399",
   "metadata": {},
   "outputs": [
    {
     "data": {
      "text/plain": [
       "['enrolled_university', 'education_level', 'experience', 'last_new_job']"
      ]
     },
     "execution_count": 9,
     "metadata": {},
     "output_type": "execute_result"
    }
   ],
   "source": [
    "cat_vars_replace_na_with_frequent"
   ]
  },
  {
   "cell_type": "code",
   "execution_count": 10,
   "id": "281388c0-3068-4a9d-8bf0-4ba6a4d5dec3",
   "metadata": {},
   "outputs": [
    {
     "data": {
      "text/plain": [
       "{'gender': 'Missing',\n",
       " 'major_discipline': 'Missing',\n",
       " 'company_size': 'Missing',\n",
       " 'company_type': 'Missing'}"
      ]
     },
     "execution_count": 10,
     "metadata": {},
     "output_type": "execute_result"
    }
   ],
   "source": [
    "cat_imputer_missing = CategoricalImputer(imputation_method='missing', variables=cat_vars_replace_na_with_string_missing)\n",
    "cat_imputer_missing.fit(X_train)\n",
    "cat_imputer_missing.imputer_dict_"
   ]
  },
  {
   "cell_type": "code",
   "execution_count": 11,
   "id": "805f4671-011d-425a-9609-d36f746930e1",
   "metadata": {},
   "outputs": [],
   "source": [
    "X_train = cat_imputer_missing.transform(X_train)\n",
    "X_test = cat_imputer_missing.transform(X_test)"
   ]
  },
  {
   "cell_type": "code",
   "execution_count": 12,
   "id": "dbfe75e6-47f6-489a-8c6d-df968417597b",
   "metadata": {},
   "outputs": [
    {
     "data": {
      "text/plain": [
       "{'enrolled_university': 'no_enrollment',\n",
       " 'education_level': 'Graduate',\n",
       " 'experience': '>20',\n",
       " 'last_new_job': '1'}"
      ]
     },
     "execution_count": 12,
     "metadata": {},
     "output_type": "execute_result"
    }
   ],
   "source": [
    "cat_imputer_frequent = CategoricalImputer(imputation_method='frequent', variables=cat_vars_replace_na_with_frequent)\n",
    "cat_imputer_frequent.fit(X_train)\n",
    "cat_imputer_frequent.imputer_dict_"
   ]
  },
  {
   "cell_type": "code",
   "execution_count": 13,
   "id": "9c526a5d-8b79-4617-94db-8aab459f3b10",
   "metadata": {},
   "outputs": [],
   "source": [
    "X_train = cat_imputer_frequent.transform(X_train)\n",
    "X_test = cat_imputer_frequent.transform(X_test)"
   ]
  },
  {
   "cell_type": "code",
   "execution_count": 14,
   "id": "c8adb196-1be1-487c-8e47-f18c633035c8",
   "metadata": {},
   "outputs": [
    {
     "data": {
      "text/plain": [
       "gender                 0\n",
       "enrolled_university    0\n",
       "education_level        0\n",
       "major_discipline       0\n",
       "experience             0\n",
       "company_size           0\n",
       "company_type           0\n",
       "last_new_job           0\n",
       "dtype: int64"
      ]
     },
     "execution_count": 14,
     "metadata": {},
     "output_type": "execute_result"
    }
   ],
   "source": [
    "X_train[cat_vars_with_na].isnull().sum()"
   ]
  },
  {
   "cell_type": "code",
   "execution_count": 15,
   "id": "022841ee-b157-4378-93e0-435c76d0e582",
   "metadata": {},
   "outputs": [
    {
     "data": {
      "text/plain": [
       "gender                 0\n",
       "enrolled_university    0\n",
       "education_level        0\n",
       "major_discipline       0\n",
       "experience             0\n",
       "company_size           0\n",
       "company_type           0\n",
       "last_new_job           0\n",
       "dtype: int64"
      ]
     },
     "execution_count": 15,
     "metadata": {},
     "output_type": "execute_result"
    }
   ],
   "source": [
    "X_test[cat_vars_with_na].isnull().sum()"
   ]
  },
  {
   "cell_type": "markdown",
   "id": "a77d5938-9bab-415e-9a7e-69505931e6ef",
   "metadata": {},
   "source": [
    "### Numerical Variables"
   ]
  },
  {
   "cell_type": "code",
   "execution_count": 16,
   "id": "6f8acedf-136c-40c5-8d37-fad3faf2fa2d",
   "metadata": {},
   "outputs": [],
   "source": [
    "num_vars = [var for var in data.columns if var not in cat_vars + ['enrollee_id', 'target']]\n",
    "num_vars_with_na = [var for var in num_vars if X_train[var].isnull().sum() > 0]"
   ]
  },
  {
   "cell_type": "code",
   "execution_count": 17,
   "id": "1c03ce2d-bc2d-4073-a09c-8fefeb62476c",
   "metadata": {},
   "outputs": [
    {
     "data": {
      "text/plain": [
       "['city_development_index', 'training_hours']"
      ]
     },
     "execution_count": 17,
     "metadata": {},
     "output_type": "execute_result"
    }
   ],
   "source": [
    "num_vars"
   ]
  },
  {
   "cell_type": "code",
   "execution_count": 18,
   "id": "c934aab8-d0fe-4011-876b-cfaee7ec7296",
   "metadata": {},
   "outputs": [
    {
     "data": {
      "text/plain": [
       "[]"
      ]
     },
     "execution_count": 18,
     "metadata": {},
     "output_type": "execute_result"
    }
   ],
   "source": [
    "num_vars_with_na"
   ]
  },
  {
   "cell_type": "markdown",
   "id": "700f6f3f-3e7f-47e4-9575-34eec1e26d86",
   "metadata": {},
   "source": [
    "## Transformations"
   ]
  },
  {
   "cell_type": "markdown",
   "id": "e72bbaf1-4b52-4559-8715-4e8430b0966e",
   "metadata": {},
   "source": [
    "### Numerical Variables"
   ]
  },
  {
   "cell_type": "code",
   "execution_count": 19,
   "id": "2d201508-7d53-4bbc-b2e4-86935d925ca0",
   "metadata": {},
   "outputs": [
    {
     "data": {
      "text/plain": [
       "{'training_hours': 0.14533500139326166}"
      ]
     },
     "execution_count": 19,
     "metadata": {},
     "output_type": "execute_result"
    }
   ],
   "source": [
    "num_vars_yeo_johnson = ['training_hours']\n",
    "\n",
    "yeo_transformer = YeoJohnsonTransformer(variables=num_vars_yeo_johnson)\n",
    "\n",
    "X_train = yeo_transformer.fit_transform(X_train)\n",
    "X_test = yeo_transformer.transform(X_test)\n",
    "\n",
    "yeo_transformer.lambda_dict_"
   ]
  },
  {
   "cell_type": "markdown",
   "id": "6974f976-bd65-4021-9993-bc1aece8f1eb",
   "metadata": {},
   "source": [
    "### Categorical Variables"
   ]
  },
  {
   "cell_type": "code",
   "execution_count": 20,
   "id": "16680604-52f8-4b9d-a59f-b1a41b227271",
   "metadata": {},
   "outputs": [
    {
     "data": {
      "text/html": [
       "<div>\n",
       "<style scoped>\n",
       "    .dataframe tbody tr th:only-of-type {\n",
       "        vertical-align: middle;\n",
       "    }\n",
       "\n",
       "    .dataframe tbody tr th {\n",
       "        vertical-align: top;\n",
       "    }\n",
       "\n",
       "    .dataframe thead th {\n",
       "        text-align: right;\n",
       "    }\n",
       "</style>\n",
       "<table border=\"1\" class=\"dataframe\">\n",
       "  <thead>\n",
       "    <tr style=\"text-align: right;\">\n",
       "      <th></th>\n",
       "      <th>city</th>\n",
       "      <th>gender</th>\n",
       "      <th>relevent_experience</th>\n",
       "      <th>enrolled_university</th>\n",
       "      <th>education_level</th>\n",
       "      <th>major_discipline</th>\n",
       "      <th>experience</th>\n",
       "      <th>company_size</th>\n",
       "      <th>company_type</th>\n",
       "      <th>last_new_job</th>\n",
       "    </tr>\n",
       "  </thead>\n",
       "  <tbody>\n",
       "    <tr>\n",
       "      <th>19147</th>\n",
       "      <td>city_21</td>\n",
       "      <td>Male</td>\n",
       "      <td>No relevent experience</td>\n",
       "      <td>Full time course</td>\n",
       "      <td>Graduate</td>\n",
       "      <td>STEM</td>\n",
       "      <td>1</td>\n",
       "      <td>100-500</td>\n",
       "      <td>Pvt Ltd</td>\n",
       "      <td>1</td>\n",
       "    </tr>\n",
       "    <tr>\n",
       "      <th>8464</th>\n",
       "      <td>city_21</td>\n",
       "      <td>Missing</td>\n",
       "      <td>Has relevent experience</td>\n",
       "      <td>Full time course</td>\n",
       "      <td>Graduate</td>\n",
       "      <td>STEM</td>\n",
       "      <td>&lt;1</td>\n",
       "      <td>&lt;10</td>\n",
       "      <td>Pvt Ltd</td>\n",
       "      <td>1</td>\n",
       "    </tr>\n",
       "    <tr>\n",
       "      <th>8869</th>\n",
       "      <td>city_16</td>\n",
       "      <td>Male</td>\n",
       "      <td>Has relevent experience</td>\n",
       "      <td>no_enrollment</td>\n",
       "      <td>Masters</td>\n",
       "      <td>STEM</td>\n",
       "      <td>9</td>\n",
       "      <td>Missing</td>\n",
       "      <td>Pvt Ltd</td>\n",
       "      <td>1</td>\n",
       "    </tr>\n",
       "    <tr>\n",
       "      <th>11645</th>\n",
       "      <td>city_118</td>\n",
       "      <td>Missing</td>\n",
       "      <td>Has relevent experience</td>\n",
       "      <td>Part time course</td>\n",
       "      <td>Masters</td>\n",
       "      <td>STEM</td>\n",
       "      <td>10</td>\n",
       "      <td>1000-4999</td>\n",
       "      <td>Pvt Ltd</td>\n",
       "      <td>3</td>\n",
       "    </tr>\n",
       "    <tr>\n",
       "      <th>7743</th>\n",
       "      <td>city_103</td>\n",
       "      <td>Missing</td>\n",
       "      <td>No relevent experience</td>\n",
       "      <td>no_enrollment</td>\n",
       "      <td>Primary School</td>\n",
       "      <td>Missing</td>\n",
       "      <td>2</td>\n",
       "      <td>Missing</td>\n",
       "      <td>Missing</td>\n",
       "      <td>never</td>\n",
       "    </tr>\n",
       "  </tbody>\n",
       "</table>\n",
       "</div>"
      ],
      "text/plain": [
       "           city   gender      relevent_experience enrolled_university  \\\n",
       "19147   city_21     Male   No relevent experience    Full time course   \n",
       "8464    city_21  Missing  Has relevent experience    Full time course   \n",
       "8869    city_16     Male  Has relevent experience       no_enrollment   \n",
       "11645  city_118  Missing  Has relevent experience    Part time course   \n",
       "7743   city_103  Missing   No relevent experience       no_enrollment   \n",
       "\n",
       "      education_level major_discipline experience company_size company_type  \\\n",
       "19147        Graduate             STEM          1      100-500      Pvt Ltd   \n",
       "8464         Graduate             STEM         <1          <10      Pvt Ltd   \n",
       "8869          Masters             STEM          9      Missing      Pvt Ltd   \n",
       "11645         Masters             STEM         10    1000-4999      Pvt Ltd   \n",
       "7743   Primary School          Missing          2      Missing      Missing   \n",
       "\n",
       "      last_new_job  \n",
       "19147            1  \n",
       "8464             1  \n",
       "8869             1  \n",
       "11645            3  \n",
       "7743         never  "
      ]
     },
     "execution_count": 20,
     "metadata": {},
     "output_type": "execute_result"
    }
   ],
   "source": [
    "X_train[cat_vars].head()"
   ]
  },
  {
   "cell_type": "code",
   "execution_count": 21,
   "id": "2f73d165-1ea2-4d95-a467-1925a6917234",
   "metadata": {},
   "outputs": [],
   "source": [
    "experience_map = {\n",
    "    '<1': 0,\n",
    "    '1': 1, \n",
    "    '2': 2, \n",
    "    '3': 3, \n",
    "    '4': 4, \n",
    "    '5': 5,\n",
    "    '6': 6,\n",
    "    '7': 7,\n",
    "    '8': 8, \n",
    "    '9': 9, \n",
    "    '10': 10, \n",
    "    '11': 11,\n",
    "    '12': 12,\n",
    "    '13': 13, \n",
    "    '14': 14, \n",
    "    '15': 15, \n",
    "    '16': 16,\n",
    "    '17': 17,\n",
    "    '18': 18,\n",
    "    '19': 19, \n",
    "    '20': 20, \n",
    "    '>20': 21\n",
    "} \n",
    "\n",
    "last_new_job_map = {\n",
    "    'never': 0,\n",
    "    '1': 1, \n",
    "    '2': 2, \n",
    "    '3': 3, \n",
    "    '4': 4, \n",
    "    '>4': 5\n",
    "}\n",
    "\n",
    "company_size_map = {\n",
    "    'Missing': 0,\n",
    "    '<10': 1,\n",
    "    '10/49': 2, \n",
    "    '100-500': 3, \n",
    "    '1000-4999': 4, \n",
    "    '10000+': 5, \n",
    "    '50-99': 6, \n",
    "    '500-999': 7, \n",
    "    '5000-9999': 8\n",
    "}\n",
    "\n",
    "cat_vars_ordinal = ['relevent_experience', 'enrolled_university', 'education_level', 'major_discipline']\n",
    "cat_vars_ordinal_arbitrary = ['city']\n",
    "cat_vars_onehot = ['gender']\n",
    "cat_vars_count_frequency = ['company_type']\n",
    "\n",
    "ordinal_encoder = OrdinalEncoder(encoding_method='ordered', variables=cat_vars_ordinal)\n",
    "ordinal_encoder.fit(X_train, y_train)\n",
    "\n",
    "ordinal_encoder_arbitrary = OrdinalEncoder(encoding_method='arbitrary', variables=cat_vars_ordinal_arbitrary)\n",
    "ordinal_encoder_arbitrary.fit(X_train, y_train)\n",
    "\n",
    "count_frequency_encoder = CountFrequencyEncoder(encoding_method='frequency', variables=cat_vars_count_frequency)\n",
    "count_frequency_encoder.fit(X_train)\n",
    "\n",
    "onehot_encoder = OneHotEncoder(variables=cat_vars_onehot)\n",
    "onehot_encoder.fit(X_train)\n",
    "\n",
    "X_train = ordinal_encoder.transform(X_train)\n",
    "X_test = ordinal_encoder.transform(X_test)\n",
    "\n",
    "X_train = ordinal_encoder_arbitrary.transform(X_train)\n",
    "X_test = ordinal_encoder_arbitrary.transform(X_test)\n",
    "\n",
    "X_train = count_frequency_encoder.transform(X_train)\n",
    "X_test = count_frequency_encoder.transform(X_test)\n",
    "\n",
    "X_train = onehot_encoder.transform(X_train)\n",
    "X_test = onehot_encoder.transform(X_test)\n",
    "\n",
    "var = 'experience'\n",
    "X_train[var] = X_train[var].map(experience_map)\n",
    "X_test[var] = X_test[var].map(experience_map)\n",
    "\n",
    "var = 'last_new_job'\n",
    "X_train[var] = X_train[var].map(last_new_job_map)\n",
    "X_test[var] = X_test[var].map(last_new_job_map)\n",
    "\n",
    "var = 'company_size'\n",
    "X_train[var] = X_train[var].map(company_size_map)\n",
    "X_test[var] = X_test[var].map(company_size_map)"
   ]
  },
  {
   "cell_type": "code",
   "execution_count": 22,
   "id": "1eaa69e8-5a2a-40ea-b8d1-c2dc20774f5c",
   "metadata": {},
   "outputs": [
    {
     "data": {
      "text/html": [
       "<div>\n",
       "<style scoped>\n",
       "    .dataframe tbody tr th:only-of-type {\n",
       "        vertical-align: middle;\n",
       "    }\n",
       "\n",
       "    .dataframe tbody tr th {\n",
       "        vertical-align: top;\n",
       "    }\n",
       "\n",
       "    .dataframe thead th {\n",
       "        text-align: right;\n",
       "    }\n",
       "</style>\n",
       "<table border=\"1\" class=\"dataframe\">\n",
       "  <thead>\n",
       "    <tr style=\"text-align: right;\">\n",
       "      <th></th>\n",
       "      <th>city</th>\n",
       "      <th>city_development_index</th>\n",
       "      <th>relevent_experience</th>\n",
       "      <th>enrolled_university</th>\n",
       "      <th>education_level</th>\n",
       "      <th>major_discipline</th>\n",
       "      <th>experience</th>\n",
       "      <th>company_size</th>\n",
       "      <th>company_type</th>\n",
       "      <th>last_new_job</th>\n",
       "      <th>training_hours</th>\n",
       "      <th>gender_Male</th>\n",
       "      <th>gender_Missing</th>\n",
       "      <th>gender_Other</th>\n",
       "      <th>gender_Female</th>\n",
       "    </tr>\n",
       "  </thead>\n",
       "  <tbody>\n",
       "    <tr>\n",
       "      <th>19147</th>\n",
       "      <td>0</td>\n",
       "      <td>0.624</td>\n",
       "      <td>1</td>\n",
       "      <td>2</td>\n",
       "      <td>4</td>\n",
       "      <td>4</td>\n",
       "      <td>1</td>\n",
       "      <td>3</td>\n",
       "      <td>0.514746</td>\n",
       "      <td>1</td>\n",
       "      <td>5.371921</td>\n",
       "      <td>1</td>\n",
       "      <td>0</td>\n",
       "      <td>0</td>\n",
       "      <td>0</td>\n",
       "    </tr>\n",
       "    <tr>\n",
       "      <th>8464</th>\n",
       "      <td>0</td>\n",
       "      <td>0.624</td>\n",
       "      <td>0</td>\n",
       "      <td>2</td>\n",
       "      <td>4</td>\n",
       "      <td>4</td>\n",
       "      <td>0</td>\n",
       "      <td>1</td>\n",
       "      <td>0.514746</td>\n",
       "      <td>1</td>\n",
       "      <td>6.415291</td>\n",
       "      <td>0</td>\n",
       "      <td>1</td>\n",
       "      <td>0</td>\n",
       "      <td>0</td>\n",
       "    </tr>\n",
       "    <tr>\n",
       "      <th>8869</th>\n",
       "      <td>1</td>\n",
       "      <td>0.910</td>\n",
       "      <td>0</td>\n",
       "      <td>0</td>\n",
       "      <td>3</td>\n",
       "      <td>4</td>\n",
       "      <td>9</td>\n",
       "      <td>0</td>\n",
       "      <td>0.514746</td>\n",
       "      <td>1</td>\n",
       "      <td>4.748399</td>\n",
       "      <td>1</td>\n",
       "      <td>0</td>\n",
       "      <td>0</td>\n",
       "      <td>0</td>\n",
       "    </tr>\n",
       "    <tr>\n",
       "      <th>11645</th>\n",
       "      <td>2</td>\n",
       "      <td>0.722</td>\n",
       "      <td>0</td>\n",
       "      <td>1</td>\n",
       "      <td>3</td>\n",
       "      <td>4</td>\n",
       "      <td>10</td>\n",
       "      <td>4</td>\n",
       "      <td>0.514746</td>\n",
       "      <td>3</td>\n",
       "      <td>3.753794</td>\n",
       "      <td>0</td>\n",
       "      <td>1</td>\n",
       "      <td>0</td>\n",
       "      <td>0</td>\n",
       "    </tr>\n",
       "    <tr>\n",
       "      <th>7743</th>\n",
       "      <td>3</td>\n",
       "      <td>0.920</td>\n",
       "      <td>1</td>\n",
       "      <td>0</td>\n",
       "      <td>1</td>\n",
       "      <td>0</td>\n",
       "      <td>2</td>\n",
       "      <td>0</td>\n",
       "      <td>0.319522</td>\n",
       "      <td>0</td>\n",
       "      <td>5.877477</td>\n",
       "      <td>0</td>\n",
       "      <td>1</td>\n",
       "      <td>0</td>\n",
       "      <td>0</td>\n",
       "    </tr>\n",
       "    <tr>\n",
       "      <th>...</th>\n",
       "      <td>...</td>\n",
       "      <td>...</td>\n",
       "      <td>...</td>\n",
       "      <td>...</td>\n",
       "      <td>...</td>\n",
       "      <td>...</td>\n",
       "      <td>...</td>\n",
       "      <td>...</td>\n",
       "      <td>...</td>\n",
       "      <td>...</td>\n",
       "      <td>...</td>\n",
       "      <td>...</td>\n",
       "      <td>...</td>\n",
       "      <td>...</td>\n",
       "      <td>...</td>\n",
       "    </tr>\n",
       "    <tr>\n",
       "      <th>9225</th>\n",
       "      <td>31</td>\n",
       "      <td>0.479</td>\n",
       "      <td>1</td>\n",
       "      <td>2</td>\n",
       "      <td>4</td>\n",
       "      <td>4</td>\n",
       "      <td>10</td>\n",
       "      <td>0</td>\n",
       "      <td>0.319522</td>\n",
       "      <td>5</td>\n",
       "      <td>4.702184</td>\n",
       "      <td>1</td>\n",
       "      <td>0</td>\n",
       "      <td>0</td>\n",
       "      <td>0</td>\n",
       "    </tr>\n",
       "    <tr>\n",
       "      <th>13123</th>\n",
       "      <td>0</td>\n",
       "      <td>0.624</td>\n",
       "      <td>0</td>\n",
       "      <td>0</td>\n",
       "      <td>4</td>\n",
       "      <td>4</td>\n",
       "      <td>6</td>\n",
       "      <td>6</td>\n",
       "      <td>0.514746</td>\n",
       "      <td>1</td>\n",
       "      <td>3.829470</td>\n",
       "      <td>1</td>\n",
       "      <td>0</td>\n",
       "      <td>0</td>\n",
       "      <td>0</td>\n",
       "    </tr>\n",
       "    <tr>\n",
       "      <th>9845</th>\n",
       "      <td>3</td>\n",
       "      <td>0.920</td>\n",
       "      <td>0</td>\n",
       "      <td>0</td>\n",
       "      <td>4</td>\n",
       "      <td>4</td>\n",
       "      <td>6</td>\n",
       "      <td>6</td>\n",
       "      <td>0.514746</td>\n",
       "      <td>0</td>\n",
       "      <td>5.232979</td>\n",
       "      <td>0</td>\n",
       "      <td>0</td>\n",
       "      <td>1</td>\n",
       "      <td>0</td>\n",
       "    </tr>\n",
       "    <tr>\n",
       "      <th>10799</th>\n",
       "      <td>0</td>\n",
       "      <td>0.624</td>\n",
       "      <td>1</td>\n",
       "      <td>0</td>\n",
       "      <td>4</td>\n",
       "      <td>4</td>\n",
       "      <td>2</td>\n",
       "      <td>2</td>\n",
       "      <td>0.319522</td>\n",
       "      <td>1</td>\n",
       "      <td>6.030879</td>\n",
       "      <td>0</td>\n",
       "      <td>1</td>\n",
       "      <td>0</td>\n",
       "      <td>0</td>\n",
       "    </tr>\n",
       "    <tr>\n",
       "      <th>2732</th>\n",
       "      <td>1</td>\n",
       "      <td>0.910</td>\n",
       "      <td>0</td>\n",
       "      <td>0</td>\n",
       "      <td>4</td>\n",
       "      <td>4</td>\n",
       "      <td>12</td>\n",
       "      <td>0</td>\n",
       "      <td>0.319522</td>\n",
       "      <td>1</td>\n",
       "      <td>1.535819</td>\n",
       "      <td>1</td>\n",
       "      <td>0</td>\n",
       "      <td>0</td>\n",
       "      <td>0</td>\n",
       "    </tr>\n",
       "  </tbody>\n",
       "</table>\n",
       "<p>15326 rows × 15 columns</p>\n",
       "</div>"
      ],
      "text/plain": [
       "       city  city_development_index  relevent_experience  enrolled_university  \\\n",
       "19147     0                   0.624                    1                    2   \n",
       "8464      0                   0.624                    0                    2   \n",
       "8869      1                   0.910                    0                    0   \n",
       "11645     2                   0.722                    0                    1   \n",
       "7743      3                   0.920                    1                    0   \n",
       "...     ...                     ...                  ...                  ...   \n",
       "9225     31                   0.479                    1                    2   \n",
       "13123     0                   0.624                    0                    0   \n",
       "9845      3                   0.920                    0                    0   \n",
       "10799     0                   0.624                    1                    0   \n",
       "2732      1                   0.910                    0                    0   \n",
       "\n",
       "       education_level  major_discipline  experience  company_size  \\\n",
       "19147                4                 4           1             3   \n",
       "8464                 4                 4           0             1   \n",
       "8869                 3                 4           9             0   \n",
       "11645                3                 4          10             4   \n",
       "7743                 1                 0           2             0   \n",
       "...                ...               ...         ...           ...   \n",
       "9225                 4                 4          10             0   \n",
       "13123                4                 4           6             6   \n",
       "9845                 4                 4           6             6   \n",
       "10799                4                 4           2             2   \n",
       "2732                 4                 4          12             0   \n",
       "\n",
       "       company_type  last_new_job  training_hours  gender_Male  \\\n",
       "19147      0.514746             1        5.371921            1   \n",
       "8464       0.514746             1        6.415291            0   \n",
       "8869       0.514746             1        4.748399            1   \n",
       "11645      0.514746             3        3.753794            0   \n",
       "7743       0.319522             0        5.877477            0   \n",
       "...             ...           ...             ...          ...   \n",
       "9225       0.319522             5        4.702184            1   \n",
       "13123      0.514746             1        3.829470            1   \n",
       "9845       0.514746             0        5.232979            0   \n",
       "10799      0.319522             1        6.030879            0   \n",
       "2732       0.319522             1        1.535819            1   \n",
       "\n",
       "       gender_Missing  gender_Other  gender_Female  \n",
       "19147               0             0              0  \n",
       "8464                1             0              0  \n",
       "8869                0             0              0  \n",
       "11645               1             0              0  \n",
       "7743                1             0              0  \n",
       "...               ...           ...            ...  \n",
       "9225                0             0              0  \n",
       "13123               0             0              0  \n",
       "9845                0             1              0  \n",
       "10799               1             0              0  \n",
       "2732                0             0              0  \n",
       "\n",
       "[15326 rows x 15 columns]"
      ]
     },
     "execution_count": 22,
     "metadata": {},
     "output_type": "execute_result"
    }
   ],
   "source": [
    "X_train"
   ]
  },
  {
   "cell_type": "code",
   "execution_count": 30,
   "id": "7f19b656-998c-4799-8f6c-a509107b958e",
   "metadata": {
    "scrolled": true,
    "tags": []
   },
   "outputs": [
    {
     "data": {
      "image/png": "[encoded data removed]",
      "text/plain": [
       "<Figure size 483.875x288 with 1 Axes>"
      ]
     },
     "metadata": {
      "needs_background": "light"
     },
     "output_type": "display_data"
    },
    {
     "data": {
      "image/png": "[encoded data removed]",
      "text/plain": [
       "<Figure size 483.875x288 with 1 Axes>"
      ]
     },
     "metadata": {
      "needs_background": "light"
     },
     "output_type": "display_data"
    },
    {
     "data": {
      "image/png": "[encoded data removed]",
      "text/plain": [
       "<Figure size 483.875x288 with 1 Axes>"
      ]
     },
     "metadata": {
      "needs_background": "light"
     },
     "output_type": "display_data"
    },
    {
     "data": {
      "image/png": "[encoded data removed]",
      "text/plain": [
       "<Figure size 483.875x288 with 1 Axes>"
      ]
     },
     "metadata": {
      "needs_background": "light"
     },
     "output_type": "display_data"
    }
   ],
   "source": [
    "X_train_ = X_train.copy()\n",
    "X_train_['target'] = y_train\n",
    "for var in cat_vars_ordinal:\n",
    "    sns.catplot(y=var, hue='target', data=X_train_, kind=\"count\", height=4, aspect=1.5)\n",
    "    plt.show()"
   ]
  },
  {
   "cell_type": "code",
   "execution_count": 31,
   "id": "dec14374-c1d6-4a0c-9998-5faa76404fe9",
   "metadata": {},
   "outputs": [],
   "source": [
    "## Feature Scaling"
   ]
  },
  {
   "cell_type": "code",
   "execution_count": null,
   "id": "a9e1efcc-b409-40a2-83a3-e3fe1729c1d7",
   "metadata": {},
   "outputs": [],
   "source": []
  }
 ],
 "metadata": {
  "kernelspec": {
   "display_name": "Python 3 (ipykernel)",
   "language": "python",
   "name": "python3"
  },
  "language_info": {
   "codemirror_mode": {
    "name": "ipython",
    "version": 3
   },
   "file_extension": ".py",
   "mimetype": "text/x-python",
   "name": "python",
   "nbconvert_exporter": "python",
   "pygments_lexer": "ipython3",
   "version": "3.9.10"
  }
 },
 "nbformat": 4,
 "nbformat_minor": 5
}
